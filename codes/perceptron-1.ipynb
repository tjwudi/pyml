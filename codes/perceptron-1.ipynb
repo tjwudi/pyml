{
 "cells": [
  {
   "cell_type": "code",
   "execution_count": 55,
   "metadata": {
    "collapsed": false
   },
   "outputs": [
    {
     "data": {
      "image/png": "[encoded data removed]",
      "text/plain": [
       "<matplotlib.figure.Figure at 0x103c54550>"
      ]
     },
     "metadata": {},
     "output_type": "display_data"
    }
   ],
   "source": [
    "%matplotlib inline\n",
    "import numpy as np\n",
    "import pandas as pd\n",
    "import random\n",
    "\n",
    "class Perceptron(object):\n",
    "    def __init__(self, learning_rate, iter_times):\n",
    "        self.learning_rate = learning_rate\n",
    "        self.iter_times = iter_times\n",
    "\n",
    "    def fit(self, X, y):\n",
    "        num_features = X.shape[1]\n",
    "        self.w_ = np.array([random.random() for _ in range(num_features + 1)])\n",
    "\n",
    "        # Train for self.iter_times\n",
    "        self.errors_ = []\n",
    "        for _ in xrange(self.iter_times):\n",
    "            error = 0\n",
    "            for xi, target in zip(X, y):\n",
    "                if target - self.predict(xi) != 0:\n",
    "                    error += 1\n",
    "            self.errors_.append(error)\n",
    "            for xi, target in zip(X, y):\n",
    "                update = self.learning_rate * (target - self.predict(xi))\n",
    "                self.w_[1:] += update * xi\n",
    "                self.w_[0] += update\n",
    "        return self\n",
    "\n",
    "\n",
    "    def net_input(self, xi):\n",
    "        return np.dot(xi, self.w_[1:]) + self.w_[0]\n",
    "\n",
    "    def predict(self, xi):\n",
    "        return np.where(self.net_input(xi) >= 0, 1, -1)\n",
    "\n",
    "df = pd.read_csv('https://archive.ics.uci.edu/ml/machine-learning-databases/iris/iris.data', header=None)\n",
    "\n",
    "y = df.iloc[0:100, 4].values\n",
    "y = np.where(y == 'Iris-setosa', -1, 1)\n",
    "X = df.iloc[0:100, [0, 2]].values\n",
    "\n",
    "\n",
    "import matplotlib.pyplot as plt\n",
    "plt.scatter(X[:50, 0], X[:50, 1], color='red', marker='o', label='setosa')\n",
    "plt.scatter(X[50:100, 0], X[50:100, 1], color='blue', marker='x', label='versicolor')\n",
    "plt.xlabel('petal length')\n",
    "plt.ylabel('sepal length')\n",
    "plt.legend(loc='upper left')\n",
    "\n",
    "\n",
    "ppn = Perceptron(learning_rate=0.1, iter_times=10)\n",
    "ppn.fit(X, y)\n",
    "\n",
    "x1_new = range(10)\n",
    "x2_new = [(-ppn.w_[0]-ppn.w_[1]*x1)/ppn.w_[2] for x1 in x1_new]\n",
    "plt.plot(x1_new, x2_new)\n",
    "\n",
    "plt.show()"
   ]
  },
  {
   "cell_type": "code",
   "execution_count": 54,
   "metadata": {
    "collapsed": false
   },
   "outputs": [
    {
     "data": {
      "image/png": "[encoded data removed]",
      "text/plain": [
       "<matplotlib.figure.Figure at 0x105a59590>"
      ]
     },
     "metadata": {},
     "output_type": "display_data"
    }
   ],
   "source": [
    "plt.plot(ppn.errors_)\n",
    "plt.show()"
   ]
  },
  {
   "cell_type": "code",
   "execution_count": null,
   "metadata": {
    "collapsed": true
   },
   "outputs": [],
   "source": []
  }
 ],
 "metadata": {
  "kernelspec": {
   "display_name": "Python 2",
   "language": "python",
   "name": "python2"
  },
  "language_info": {
   "codemirror_mode": {
    "name": "ipython",
    "version": 2
   },
   "file_extension": ".py",
   "mimetype": "text/x-python",
   "name": "python",
   "nbconvert_exporter": "python",
   "pygments_lexer": "ipython2",
   "version": "2.7.10"
  }
 },
 "nbformat": 4,
 "nbformat_minor": 0
}
